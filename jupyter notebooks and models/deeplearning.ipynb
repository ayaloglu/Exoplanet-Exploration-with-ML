{
 "cells": [
  {
   "cell_type": "code",
   "execution_count": 1,
   "metadata": {},
   "outputs": [
    {
     "name": "stdout",
     "output_type": "stream",
     "text": [
      "Requirement already satisfied: sklearn in c:\\users\\fatma\\anaconda3\\envs\\pythondata38\\lib\\site-packages (0.0)\n",
      "Requirement already satisfied: scikit-learn in c:\\users\\fatma\\anaconda3\\envs\\pythondata38\\lib\\site-packages (from sklearn) (0.24.1)\n",
      "Requirement already satisfied: joblib>=0.11 in c:\\users\\fatma\\anaconda3\\envs\\pythondata38\\lib\\site-packages (from scikit-learn->sklearn) (1.0.1)\n",
      "Requirement already satisfied: numpy>=1.13.3 in c:\\users\\fatma\\anaconda3\\envs\\pythondata38\\lib\\site-packages (from scikit-learn->sklearn) (1.20.1)\n",
      "Requirement already satisfied: scipy>=0.19.1 in c:\\users\\fatma\\anaconda3\\envs\\pythondata38\\lib\\site-packages (from scikit-learn->sklearn) (1.6.2)\n",
      "Requirement already satisfied: threadpoolctl>=2.0.0 in c:\\users\\fatma\\anaconda3\\envs\\pythondata38\\lib\\site-packages (from scikit-learn->sklearn) (2.1.0)\n"
     ]
    }
   ],
   "source": [
    "# Update sklearn to prevent version mismatches\n",
    "!pip install sklearn --upgrade"
   ]
  },
  {
   "cell_type": "code",
   "execution_count": 2,
   "metadata": {},
   "outputs": [
    {
     "name": "stdout",
     "output_type": "stream",
     "text": [
      "Requirement already satisfied: joblib in c:\\users\\fatma\\anaconda3\\envs\\pythondata38\\lib\\site-packages (1.0.1)\n"
     ]
    }
   ],
   "source": [
    "# install joblib. This will be used to save your model. \n",
    "# Restart your kernel after installing \n",
    "!pip install joblib"
   ]
  },
  {
   "cell_type": "code",
   "execution_count": 3,
   "metadata": {},
   "outputs": [
    {
     "data": {
      "text/plain": [
       "'2.4.0'"
      ]
     },
     "execution_count": 3,
     "metadata": {},
     "output_type": "execute_result"
    }
   ],
   "source": [
    "import pandas as pd\n",
    "import tensorflow\n",
    "tensorflow.keras.__version__"
   ]
  },
  {
   "cell_type": "markdown",
   "metadata": {},
   "source": [
    "# Read the CSV and Perform Basic Data Cleaning"
   ]
  },
  {
   "cell_type": "code",
   "execution_count": 4,
   "metadata": {},
   "outputs": [
    {
     "data": {
      "text/html": [
       "<div>\n",
       "<style scoped>\n",
       "    .dataframe tbody tr th:only-of-type {\n",
       "        vertical-align: middle;\n",
       "    }\n",
       "\n",
       "    .dataframe tbody tr th {\n",
       "        vertical-align: top;\n",
       "    }\n",
       "\n",
       "    .dataframe thead th {\n",
       "        text-align: right;\n",
       "    }\n",
       "</style>\n",
       "<table border=\"1\" class=\"dataframe\">\n",
       "  <thead>\n",
       "    <tr style=\"text-align: right;\">\n",
       "      <th></th>\n",
       "      <th>koi_disposition</th>\n",
       "      <th>koi_fpflag_nt</th>\n",
       "      <th>koi_fpflag_ss</th>\n",
       "      <th>koi_fpflag_co</th>\n",
       "      <th>koi_fpflag_ec</th>\n",
       "      <th>koi_period</th>\n",
       "      <th>koi_period_err1</th>\n",
       "      <th>koi_period_err2</th>\n",
       "      <th>koi_time0bk</th>\n",
       "      <th>koi_time0bk_err1</th>\n",
       "      <th>...</th>\n",
       "      <th>koi_steff_err2</th>\n",
       "      <th>koi_slogg</th>\n",
       "      <th>koi_slogg_err1</th>\n",
       "      <th>koi_slogg_err2</th>\n",
       "      <th>koi_srad</th>\n",
       "      <th>koi_srad_err1</th>\n",
       "      <th>koi_srad_err2</th>\n",
       "      <th>ra</th>\n",
       "      <th>dec</th>\n",
       "      <th>koi_kepmag</th>\n",
       "    </tr>\n",
       "  </thead>\n",
       "  <tbody>\n",
       "    <tr>\n",
       "      <th>0</th>\n",
       "      <td>CONFIRMED</td>\n",
       "      <td>0</td>\n",
       "      <td>0</td>\n",
       "      <td>0</td>\n",
       "      <td>0</td>\n",
       "      <td>54.418383</td>\n",
       "      <td>2.479000e-04</td>\n",
       "      <td>-2.479000e-04</td>\n",
       "      <td>162.513840</td>\n",
       "      <td>0.003520</td>\n",
       "      <td>...</td>\n",
       "      <td>-81</td>\n",
       "      <td>4.467</td>\n",
       "      <td>0.064</td>\n",
       "      <td>-0.096</td>\n",
       "      <td>0.927</td>\n",
       "      <td>0.105</td>\n",
       "      <td>-0.061</td>\n",
       "      <td>291.93423</td>\n",
       "      <td>48.141651</td>\n",
       "      <td>15.347</td>\n",
       "    </tr>\n",
       "    <tr>\n",
       "      <th>1</th>\n",
       "      <td>FALSE POSITIVE</td>\n",
       "      <td>0</td>\n",
       "      <td>1</td>\n",
       "      <td>0</td>\n",
       "      <td>0</td>\n",
       "      <td>19.899140</td>\n",
       "      <td>1.490000e-05</td>\n",
       "      <td>-1.490000e-05</td>\n",
       "      <td>175.850252</td>\n",
       "      <td>0.000581</td>\n",
       "      <td>...</td>\n",
       "      <td>-176</td>\n",
       "      <td>4.544</td>\n",
       "      <td>0.044</td>\n",
       "      <td>-0.176</td>\n",
       "      <td>0.868</td>\n",
       "      <td>0.233</td>\n",
       "      <td>-0.078</td>\n",
       "      <td>297.00482</td>\n",
       "      <td>48.134129</td>\n",
       "      <td>15.436</td>\n",
       "    </tr>\n",
       "    <tr>\n",
       "      <th>2</th>\n",
       "      <td>FALSE POSITIVE</td>\n",
       "      <td>0</td>\n",
       "      <td>1</td>\n",
       "      <td>0</td>\n",
       "      <td>0</td>\n",
       "      <td>1.736952</td>\n",
       "      <td>2.630000e-07</td>\n",
       "      <td>-2.630000e-07</td>\n",
       "      <td>170.307565</td>\n",
       "      <td>0.000115</td>\n",
       "      <td>...</td>\n",
       "      <td>-174</td>\n",
       "      <td>4.564</td>\n",
       "      <td>0.053</td>\n",
       "      <td>-0.168</td>\n",
       "      <td>0.791</td>\n",
       "      <td>0.201</td>\n",
       "      <td>-0.067</td>\n",
       "      <td>285.53461</td>\n",
       "      <td>48.285210</td>\n",
       "      <td>15.597</td>\n",
       "    </tr>\n",
       "    <tr>\n",
       "      <th>3</th>\n",
       "      <td>CONFIRMED</td>\n",
       "      <td>0</td>\n",
       "      <td>0</td>\n",
       "      <td>0</td>\n",
       "      <td>0</td>\n",
       "      <td>2.525592</td>\n",
       "      <td>3.760000e-06</td>\n",
       "      <td>-3.760000e-06</td>\n",
       "      <td>171.595550</td>\n",
       "      <td>0.001130</td>\n",
       "      <td>...</td>\n",
       "      <td>-211</td>\n",
       "      <td>4.438</td>\n",
       "      <td>0.070</td>\n",
       "      <td>-0.210</td>\n",
       "      <td>1.046</td>\n",
       "      <td>0.334</td>\n",
       "      <td>-0.133</td>\n",
       "      <td>288.75488</td>\n",
       "      <td>48.226200</td>\n",
       "      <td>15.509</td>\n",
       "    </tr>\n",
       "    <tr>\n",
       "      <th>4</th>\n",
       "      <td>CONFIRMED</td>\n",
       "      <td>0</td>\n",
       "      <td>0</td>\n",
       "      <td>0</td>\n",
       "      <td>0</td>\n",
       "      <td>4.134435</td>\n",
       "      <td>1.050000e-05</td>\n",
       "      <td>-1.050000e-05</td>\n",
       "      <td>172.979370</td>\n",
       "      <td>0.001900</td>\n",
       "      <td>...</td>\n",
       "      <td>-232</td>\n",
       "      <td>4.486</td>\n",
       "      <td>0.054</td>\n",
       "      <td>-0.229</td>\n",
       "      <td>0.972</td>\n",
       "      <td>0.315</td>\n",
       "      <td>-0.105</td>\n",
       "      <td>296.28613</td>\n",
       "      <td>48.224670</td>\n",
       "      <td>15.714</td>\n",
       "    </tr>\n",
       "  </tbody>\n",
       "</table>\n",
       "<p>5 rows × 41 columns</p>\n",
       "</div>"
      ],
      "text/plain": [
       "  koi_disposition  koi_fpflag_nt  koi_fpflag_ss  koi_fpflag_co  koi_fpflag_ec  \\\n",
       "0       CONFIRMED              0              0              0              0   \n",
       "1  FALSE POSITIVE              0              1              0              0   \n",
       "2  FALSE POSITIVE              0              1              0              0   \n",
       "3       CONFIRMED              0              0              0              0   \n",
       "4       CONFIRMED              0              0              0              0   \n",
       "\n",
       "   koi_period  koi_period_err1  koi_period_err2  koi_time0bk  \\\n",
       "0   54.418383     2.479000e-04    -2.479000e-04   162.513840   \n",
       "1   19.899140     1.490000e-05    -1.490000e-05   175.850252   \n",
       "2    1.736952     2.630000e-07    -2.630000e-07   170.307565   \n",
       "3    2.525592     3.760000e-06    -3.760000e-06   171.595550   \n",
       "4    4.134435     1.050000e-05    -1.050000e-05   172.979370   \n",
       "\n",
       "   koi_time0bk_err1  ...  koi_steff_err2  koi_slogg  koi_slogg_err1  \\\n",
       "0          0.003520  ...             -81      4.467           0.064   \n",
       "1          0.000581  ...            -176      4.544           0.044   \n",
       "2          0.000115  ...            -174      4.564           0.053   \n",
       "3          0.001130  ...            -211      4.438           0.070   \n",
       "4          0.001900  ...            -232      4.486           0.054   \n",
       "\n",
       "   koi_slogg_err2  koi_srad  koi_srad_err1  koi_srad_err2         ra  \\\n",
       "0          -0.096     0.927          0.105         -0.061  291.93423   \n",
       "1          -0.176     0.868          0.233         -0.078  297.00482   \n",
       "2          -0.168     0.791          0.201         -0.067  285.53461   \n",
       "3          -0.210     1.046          0.334         -0.133  288.75488   \n",
       "4          -0.229     0.972          0.315         -0.105  296.28613   \n",
       "\n",
       "         dec  koi_kepmag  \n",
       "0  48.141651      15.347  \n",
       "1  48.134129      15.436  \n",
       "2  48.285210      15.597  \n",
       "3  48.226200      15.509  \n",
       "4  48.224670      15.714  \n",
       "\n",
       "[5 rows x 41 columns]"
      ]
     },
     "execution_count": 4,
     "metadata": {},
     "output_type": "execute_result"
    }
   ],
   "source": [
    "df = pd.read_csv(\"exoplanet_data.csv\")\n",
    "# Drop the null columns where all values are null\n",
    "df = df.dropna(axis='columns', how='all')\n",
    "# Drop the null rows\n",
    "df = df.dropna()\n",
    "df.head()"
   ]
  },
  {
   "cell_type": "code",
   "execution_count": null,
   "metadata": {},
   "outputs": [],
   "source": [
    "df.columns"
   ]
  },
  {
   "cell_type": "markdown",
   "metadata": {},
   "source": [
    "# Select your features (columns)"
   ]
  },
  {
   "cell_type": "code",
   "execution_count": 5,
   "metadata": {},
   "outputs": [],
   "source": [
    "# Set features. This will also be used as your x values.\n",
    "# check the definition of each column name from:  https://exoplanetarchive.ipac.caltech.edu/docs/API_kepcandidate_columns.html#pdisposition\n",
    "selected_features = df[['koi_fpflag_nt', 'koi_fpflag_ss', 'koi_fpflag_co',\n",
    "       'koi_fpflag_ec', 'koi_period', \n",
    "        'koi_impact',\n",
    "        'koi_duration',\n",
    "        'koi_depth', \n",
    "        'koi_prad', \n",
    "       'koi_teq', 'koi_insol', \n",
    "       'koi_model_snr',  'koi_steff', \n",
    "        'koi_slogg', \n",
    "       'koi_srad',  \n",
    "       'koi_kepmag']]"
   ]
  },
  {
   "cell_type": "markdown",
   "metadata": {},
   "source": [
    "# Create a Train Test Split\n",
    "\n",
    "Use `koi_disposition` for the y values"
   ]
  },
  {
   "cell_type": "code",
   "execution_count": 6,
   "metadata": {},
   "outputs": [],
   "source": [
    "target = df[\"koi_disposition\" ]\n"
   ]
  },
  {
   "cell_type": "code",
   "execution_count": 7,
   "metadata": {},
   "outputs": [],
   "source": [
    "from sklearn.model_selection import train_test_split\n",
    "X_train, X_test, y_train, y_test = train_test_split(selected_features, target, random_state=42)"
   ]
  },
  {
   "cell_type": "code",
   "execution_count": 8,
   "metadata": {},
   "outputs": [
    {
     "data": {
      "text/html": [
       "<div>\n",
       "<style scoped>\n",
       "    .dataframe tbody tr th:only-of-type {\n",
       "        vertical-align: middle;\n",
       "    }\n",
       "\n",
       "    .dataframe tbody tr th {\n",
       "        vertical-align: top;\n",
       "    }\n",
       "\n",
       "    .dataframe thead th {\n",
       "        text-align: right;\n",
       "    }\n",
       "</style>\n",
       "<table border=\"1\" class=\"dataframe\">\n",
       "  <thead>\n",
       "    <tr style=\"text-align: right;\">\n",
       "      <th></th>\n",
       "      <th>koi_fpflag_nt</th>\n",
       "      <th>koi_fpflag_ss</th>\n",
       "      <th>koi_fpflag_co</th>\n",
       "      <th>koi_fpflag_ec</th>\n",
       "      <th>koi_period</th>\n",
       "      <th>koi_impact</th>\n",
       "      <th>koi_duration</th>\n",
       "      <th>koi_depth</th>\n",
       "      <th>koi_prad</th>\n",
       "      <th>koi_teq</th>\n",
       "      <th>koi_insol</th>\n",
       "      <th>koi_model_snr</th>\n",
       "      <th>koi_steff</th>\n",
       "      <th>koi_slogg</th>\n",
       "      <th>koi_srad</th>\n",
       "      <th>koi_kepmag</th>\n",
       "    </tr>\n",
       "  </thead>\n",
       "  <tbody>\n",
       "    <tr>\n",
       "      <th>6122</th>\n",
       "      <td>0</td>\n",
       "      <td>0</td>\n",
       "      <td>0</td>\n",
       "      <td>0</td>\n",
       "      <td>6.768901</td>\n",
       "      <td>0.150</td>\n",
       "      <td>3.61600</td>\n",
       "      <td>123.1</td>\n",
       "      <td>1.24</td>\n",
       "      <td>1017</td>\n",
       "      <td>253.30</td>\n",
       "      <td>10.8</td>\n",
       "      <td>5737</td>\n",
       "      <td>4.327</td>\n",
       "      <td>1.125</td>\n",
       "      <td>14.725</td>\n",
       "    </tr>\n",
       "    <tr>\n",
       "      <th>6370</th>\n",
       "      <td>0</td>\n",
       "      <td>1</td>\n",
       "      <td>0</td>\n",
       "      <td>1</td>\n",
       "      <td>0.733726</td>\n",
       "      <td>0.291</td>\n",
       "      <td>2.30900</td>\n",
       "      <td>114.6</td>\n",
       "      <td>0.86</td>\n",
       "      <td>1867</td>\n",
       "      <td>2891.64</td>\n",
       "      <td>13.8</td>\n",
       "      <td>5855</td>\n",
       "      <td>4.578</td>\n",
       "      <td>0.797</td>\n",
       "      <td>15.770</td>\n",
       "    </tr>\n",
       "    <tr>\n",
       "      <th>2879</th>\n",
       "      <td>1</td>\n",
       "      <td>0</td>\n",
       "      <td>0</td>\n",
       "      <td>0</td>\n",
       "      <td>7.652707</td>\n",
       "      <td>0.970</td>\n",
       "      <td>79.89690</td>\n",
       "      <td>641.1</td>\n",
       "      <td>3.21</td>\n",
       "      <td>989</td>\n",
       "      <td>226.81</td>\n",
       "      <td>254.3</td>\n",
       "      <td>6328</td>\n",
       "      <td>4.481</td>\n",
       "      <td>0.963</td>\n",
       "      <td>13.099</td>\n",
       "    </tr>\n",
       "    <tr>\n",
       "      <th>107</th>\n",
       "      <td>0</td>\n",
       "      <td>0</td>\n",
       "      <td>0</td>\n",
       "      <td>0</td>\n",
       "      <td>7.953547</td>\n",
       "      <td>0.300</td>\n",
       "      <td>2.63120</td>\n",
       "      <td>875.4</td>\n",
       "      <td>2.25</td>\n",
       "      <td>696</td>\n",
       "      <td>55.37</td>\n",
       "      <td>38.4</td>\n",
       "      <td>4768</td>\n",
       "      <td>4.536</td>\n",
       "      <td>0.779</td>\n",
       "      <td>15.660</td>\n",
       "    </tr>\n",
       "    <tr>\n",
       "      <th>29</th>\n",
       "      <td>0</td>\n",
       "      <td>0</td>\n",
       "      <td>0</td>\n",
       "      <td>0</td>\n",
       "      <td>4.959319</td>\n",
       "      <td>0.831</td>\n",
       "      <td>2.22739</td>\n",
       "      <td>9802.0</td>\n",
       "      <td>12.21</td>\n",
       "      <td>1103</td>\n",
       "      <td>349.40</td>\n",
       "      <td>696.5</td>\n",
       "      <td>5712</td>\n",
       "      <td>4.359</td>\n",
       "      <td>1.082</td>\n",
       "      <td>15.263</td>\n",
       "    </tr>\n",
       "  </tbody>\n",
       "</table>\n",
       "</div>"
      ],
      "text/plain": [
       "      koi_fpflag_nt  koi_fpflag_ss  koi_fpflag_co  koi_fpflag_ec  koi_period  \\\n",
       "6122              0              0              0              0    6.768901   \n",
       "6370              0              1              0              1    0.733726   \n",
       "2879              1              0              0              0    7.652707   \n",
       "107               0              0              0              0    7.953547   \n",
       "29                0              0              0              0    4.959319   \n",
       "\n",
       "      koi_impact  koi_duration  koi_depth  koi_prad  koi_teq  koi_insol  \\\n",
       "6122       0.150       3.61600      123.1      1.24     1017     253.30   \n",
       "6370       0.291       2.30900      114.6      0.86     1867    2891.64   \n",
       "2879       0.970      79.89690      641.1      3.21      989     226.81   \n",
       "107        0.300       2.63120      875.4      2.25      696      55.37   \n",
       "29         0.831       2.22739     9802.0     12.21     1103     349.40   \n",
       "\n",
       "      koi_model_snr  koi_steff  koi_slogg  koi_srad  koi_kepmag  \n",
       "6122           10.8       5737      4.327     1.125      14.725  \n",
       "6370           13.8       5855      4.578     0.797      15.770  \n",
       "2879          254.3       6328      4.481     0.963      13.099  \n",
       "107            38.4       4768      4.536     0.779      15.660  \n",
       "29            696.5       5712      4.359     1.082      15.263  "
      ]
     },
     "execution_count": 8,
     "metadata": {},
     "output_type": "execute_result"
    }
   ],
   "source": [
    "X_train.head()"
   ]
  },
  {
   "cell_type": "markdown",
   "metadata": {},
   "source": [
    "# Pre-processing\n",
    "\n",
    "Scale the data using the MinMaxScaler and perform some feature selection"
   ]
  },
  {
   "cell_type": "code",
   "execution_count": 9,
   "metadata": {},
   "outputs": [],
   "source": [
    "\n",
    "\n",
    "from sklearn.model_selection import train_test_split\n",
    "from sklearn.preprocessing import LabelEncoder, MinMaxScaler\n",
    "from tensorflow.keras.utils import to_categorical\n"
   ]
  },
  {
   "cell_type": "code",
   "execution_count": 10,
   "metadata": {},
   "outputs": [],
   "source": [
    "X_scaler = MinMaxScaler().fit(X_train)\n",
    "X_train_scaled = X_scaler.transform(X_train)\n",
    "X_test_scaled = X_scaler.transform(X_test)"
   ]
  },
  {
   "cell_type": "code",
   "execution_count": 11,
   "metadata": {},
   "outputs": [],
   "source": [
    "# Label-encode data set\n",
    "label_encoder = LabelEncoder()\n",
    "label_encoder.fit(y_train)\n",
    "encoded_y_train = label_encoder.transform(y_train)\n",
    "encoded_y_test = label_encoder.transform(y_test)"
   ]
  },
  {
   "cell_type": "code",
   "execution_count": 12,
   "metadata": {},
   "outputs": [],
   "source": [
    "# Convert encoded labels to one-hot-encoding\n",
    "y_train_categorical = to_categorical(encoded_y_train)\n",
    "y_test_categorical = to_categorical(encoded_y_test)"
   ]
  },
  {
   "cell_type": "markdown",
   "metadata": {},
   "source": [
    "# Train The Model"
   ]
  },
  {
   "cell_type": "code",
   "execution_count": 13,
   "metadata": {},
   "outputs": [],
   "source": [
    "from tensorflow.keras.models import Sequential\n",
    "from tensorflow.keras.layers import Dense"
   ]
  },
  {
   "cell_type": "code",
   "execution_count": 14,
   "metadata": {},
   "outputs": [],
   "source": [
    "# Create model and add layers\n",
    "model = Sequential()\n",
    "model.add(Dense(units=50, activation='relu', input_dim=16))\n",
    "model.add(Dense(units=50, activation='relu'))\n",
    "model.add(Dense(units=50, activation='relu'))\n",
    "model.add(Dense(units=3, activation='softmax'))"
   ]
  },
  {
   "cell_type": "code",
   "execution_count": 15,
   "metadata": {},
   "outputs": [],
   "source": [
    "# Compile and fit the model\n",
    "model.compile(optimizer='adam',\n",
    "              loss='categorical_crossentropy',\n",
    "              metrics=['accuracy'])"
   ]
  },
  {
   "cell_type": "code",
   "execution_count": null,
   "metadata": {},
   "outputs": [],
   "source": [
    "model.summary()"
   ]
  },
  {
   "cell_type": "code",
   "execution_count": 16,
   "metadata": {},
   "outputs": [
    {
     "name": "stdout",
     "output_type": "stream",
     "text": [
      "Epoch 1/100\n",
      "164/164 [==============================] - 0s 1ms/step - loss: 0.5765 - accuracy: 0.7047\n",
      "Epoch 2/100\n",
      "164/164 [==============================] - 0s 1ms/step - loss: 0.3838 - accuracy: 0.7726\n",
      "Epoch 3/100\n",
      "164/164 [==============================] - 0s 1ms/step - loss: 0.3781 - accuracy: 0.7753\n",
      "Epoch 4/100\n",
      "164/164 [==============================] - 0s 1ms/step - loss: 0.3752 - accuracy: 0.7786\n",
      "Epoch 5/100\n",
      "164/164 [==============================] - 0s 1ms/step - loss: 0.3709 - accuracy: 0.7887\n",
      "Epoch 6/100\n",
      "164/164 [==============================] - 0s 1ms/step - loss: 0.3678 - accuracy: 0.7900\n",
      "Epoch 7/100\n",
      "164/164 [==============================] - 0s 1ms/step - loss: 0.3650 - accuracy: 0.7910\n",
      "Epoch 8/100\n",
      "164/164 [==============================] - 0s 1ms/step - loss: 0.3623 - accuracy: 0.7973\n",
      "Epoch 9/100\n",
      "164/164 [==============================] - 0s 1ms/step - loss: 0.3581 - accuracy: 0.8032\n",
      "Epoch 10/100\n",
      "164/164 [==============================] - 0s 1ms/step - loss: 0.3574 - accuracy: 0.7995\n",
      "Epoch 11/100\n",
      "164/164 [==============================] - 0s 1ms/step - loss: 0.3538 - accuracy: 0.8034\n",
      "Epoch 12/100\n",
      "164/164 [==============================] - 0s 1ms/step - loss: 0.3536 - accuracy: 0.8053\n",
      "Epoch 13/100\n",
      "164/164 [==============================] - 0s 1ms/step - loss: 0.3564 - accuracy: 0.7957\n",
      "Epoch 14/100\n",
      "164/164 [==============================] - 0s 1ms/step - loss: 0.3553 - accuracy: 0.8098\n",
      "Epoch 15/100\n",
      "164/164 [==============================] - 0s 1ms/step - loss: 0.3535 - accuracy: 0.8037\n",
      "Epoch 16/100\n",
      "164/164 [==============================] - 0s 1ms/step - loss: 0.3500 - accuracy: 0.8112\n",
      "Epoch 17/100\n",
      "164/164 [==============================] - 0s 1ms/step - loss: 0.3491 - accuracy: 0.8173\n",
      "Epoch 18/100\n",
      "164/164 [==============================] - 0s 2ms/step - loss: 0.3501 - accuracy: 0.8064: 0s - loss: 0.3502 - accuracy: 0.80\n",
      "Epoch 19/100\n",
      "164/164 [==============================] - 0s 1ms/step - loss: 0.3465 - accuracy: 0.8129\n",
      "Epoch 20/100\n",
      "164/164 [==============================] - 0s 1ms/step - loss: 0.3461 - accuracy: 0.8175\n",
      "Epoch 21/100\n",
      "164/164 [==============================] - 0s 1ms/step - loss: 0.3472 - accuracy: 0.8108\n",
      "Epoch 22/100\n",
      "164/164 [==============================] - 0s 1ms/step - loss: 0.3456 - accuracy: 0.8169\n",
      "Epoch 23/100\n",
      "164/164 [==============================] - 0s 1ms/step - loss: 0.3426 - accuracy: 0.8219\n",
      "Epoch 24/100\n",
      "164/164 [==============================] - 0s 1ms/step - loss: 0.3422 - accuracy: 0.8205\n",
      "Epoch 25/100\n",
      "164/164 [==============================] - 0s 1ms/step - loss: 0.3433 - accuracy: 0.8173\n",
      "Epoch 26/100\n",
      "164/164 [==============================] - 0s 1ms/step - loss: 0.3423 - accuracy: 0.8194\n",
      "Epoch 27/100\n",
      "164/164 [==============================] - 0s 1ms/step - loss: 0.3432 - accuracy: 0.8148\n",
      "Epoch 28/100\n",
      "164/164 [==============================] - 0s 1ms/step - loss: 0.3411 - accuracy: 0.8167\n",
      "Epoch 29/100\n",
      "164/164 [==============================] - 0s 1ms/step - loss: 0.3381 - accuracy: 0.8234\n",
      "Epoch 30/100\n",
      "164/164 [==============================] - 0s 1ms/step - loss: 0.3393 - accuracy: 0.8234\n",
      "Epoch 31/100\n",
      "164/164 [==============================] - 0s 1ms/step - loss: 0.3356 - accuracy: 0.8200\n",
      "Epoch 32/100\n",
      "164/164 [==============================] - 0s 1ms/step - loss: 0.3359 - accuracy: 0.8266\n",
      "Epoch 33/100\n",
      "164/164 [==============================] - 0s 1ms/step - loss: 0.3339 - accuracy: 0.8280\n",
      "Epoch 34/100\n",
      "164/164 [==============================] - 0s 1ms/step - loss: 0.3329 - accuracy: 0.8278\n",
      "Epoch 35/100\n",
      "164/164 [==============================] - 0s 1ms/step - loss: 0.3305 - accuracy: 0.8278\n",
      "Epoch 36/100\n",
      "164/164 [==============================] - 0s 1ms/step - loss: 0.3298 - accuracy: 0.8264\n",
      "Epoch 37/100\n",
      "164/164 [==============================] - 0s 1ms/step - loss: 0.3276 - accuracy: 0.8320\n",
      "Epoch 38/100\n",
      "164/164 [==============================] - 0s 1ms/step - loss: 0.3284 - accuracy: 0.8335\n",
      "Epoch 39/100\n",
      "164/164 [==============================] - 0s 1ms/step - loss: 0.3244 - accuracy: 0.8354\n",
      "Epoch 40/100\n",
      "164/164 [==============================] - 0s 1ms/step - loss: 0.3230 - accuracy: 0.8344\n",
      "Epoch 41/100\n",
      "164/164 [==============================] - 0s 1ms/step - loss: 0.3247 - accuracy: 0.8344\n",
      "Epoch 42/100\n",
      "164/164 [==============================] - 0s 1ms/step - loss: 0.3226 - accuracy: 0.8362\n",
      "Epoch 43/100\n",
      "164/164 [==============================] - 0s 1ms/step - loss: 0.3205 - accuracy: 0.8308\n",
      "Epoch 44/100\n",
      "164/164 [==============================] - 0s 1ms/step - loss: 0.3155 - accuracy: 0.8421\n",
      "Epoch 45/100\n",
      "164/164 [==============================] - 0s 1ms/step - loss: 0.3176 - accuracy: 0.8402\n",
      "Epoch 46/100\n",
      "164/164 [==============================] - 0s 1ms/step - loss: 0.3159 - accuracy: 0.8381\n",
      "Epoch 47/100\n",
      "164/164 [==============================] - 0s 1ms/step - loss: 0.3122 - accuracy: 0.8491\n",
      "Epoch 48/100\n",
      "164/164 [==============================] - 0s 1ms/step - loss: 0.3098 - accuracy: 0.8472\n",
      "Epoch 49/100\n",
      "164/164 [==============================] - 0s 1ms/step - loss: 0.3068 - accuracy: 0.8495\n",
      "Epoch 50/100\n",
      "164/164 [==============================] - 0s 1ms/step - loss: 0.3067 - accuracy: 0.8467\n",
      "Epoch 51/100\n",
      "164/164 [==============================] - 0s 1ms/step - loss: 0.3060 - accuracy: 0.8508\n",
      "Epoch 52/100\n",
      "164/164 [==============================] - 0s 1ms/step - loss: 0.3045 - accuracy: 0.8470\n",
      "Epoch 53/100\n",
      "164/164 [==============================] - 0s 1ms/step - loss: 0.3032 - accuracy: 0.8505\n",
      "Epoch 54/100\n",
      "164/164 [==============================] - 0s 1ms/step - loss: 0.3063 - accuracy: 0.8493\n",
      "Epoch 55/100\n",
      "164/164 [==============================] - 0s 1ms/step - loss: 0.3038 - accuracy: 0.8505\n",
      "Epoch 56/100\n",
      "164/164 [==============================] - 0s 1ms/step - loss: 0.3012 - accuracy: 0.8497\n",
      "Epoch 57/100\n",
      "164/164 [==============================] - 0s 1ms/step - loss: 0.2983 - accuracy: 0.8550\n",
      "Epoch 58/100\n",
      "164/164 [==============================] - 0s 1ms/step - loss: 0.2918 - accuracy: 0.8627\n",
      "Epoch 59/100\n",
      "164/164 [==============================] - 0s 1ms/step - loss: 0.2944 - accuracy: 0.8589\n",
      "Epoch 60/100\n",
      "164/164 [==============================] - 0s 1ms/step - loss: 0.2892 - accuracy: 0.8596\n",
      "Epoch 61/100\n",
      "164/164 [==============================] - 0s 1ms/step - loss: 0.2880 - accuracy: 0.8608\n",
      "Epoch 62/100\n",
      "164/164 [==============================] - 0s 1ms/step - loss: 0.3006 - accuracy: 0.8520\n",
      "Epoch 63/100\n",
      "164/164 [==============================] - 0s 1ms/step - loss: 0.2873 - accuracy: 0.8640\n",
      "Epoch 64/100\n",
      "164/164 [==============================] - 0s 1ms/step - loss: 0.2847 - accuracy: 0.8627\n",
      "Epoch 65/100\n",
      "164/164 [==============================] - 0s 1ms/step - loss: 0.2839 - accuracy: 0.8652\n",
      "Epoch 66/100\n",
      "164/164 [==============================] - 0s 1ms/step - loss: 0.2808 - accuracy: 0.8673\n",
      "Epoch 67/100\n",
      "164/164 [==============================] - 0s 1ms/step - loss: 0.2778 - accuracy: 0.8680\n",
      "Epoch 68/100\n",
      "164/164 [==============================] - 0s 1ms/step - loss: 0.2848 - accuracy: 0.8621\n",
      "Epoch 69/100\n",
      "164/164 [==============================] - 0s 1ms/step - loss: 0.2777 - accuracy: 0.8686\n",
      "Epoch 70/100\n",
      "164/164 [==============================] - 0s 2ms/step - loss: 0.2740 - accuracy: 0.8741\n",
      "Epoch 71/100\n",
      "164/164 [==============================] - 0s 1ms/step - loss: 0.2705 - accuracy: 0.8728\n",
      "Epoch 72/100\n",
      "164/164 [==============================] - 0s 1ms/step - loss: 0.2714 - accuracy: 0.8734\n",
      "Epoch 73/100\n",
      "164/164 [==============================] - 0s 1ms/step - loss: 0.2740 - accuracy: 0.8684\n",
      "Epoch 74/100\n",
      "164/164 [==============================] - 0s 1ms/step - loss: 0.2751 - accuracy: 0.8709\n",
      "Epoch 75/100\n",
      "164/164 [==============================] - 0s 1ms/step - loss: 0.2754 - accuracy: 0.8661\n",
      "Epoch 76/100\n",
      "164/164 [==============================] - 0s 1ms/step - loss: 0.2687 - accuracy: 0.8749\n",
      "Epoch 77/100\n",
      "164/164 [==============================] - 0s 1ms/step - loss: 0.2636 - accuracy: 0.8796\n",
      "Epoch 78/100\n",
      "164/164 [==============================] - 0s 1ms/step - loss: 0.2634 - accuracy: 0.8791\n",
      "Epoch 79/100\n",
      "164/164 [==============================] - 0s 1ms/step - loss: 0.2648 - accuracy: 0.8762\n",
      "Epoch 80/100\n",
      "164/164 [==============================] - 0s 1ms/step - loss: 0.2658 - accuracy: 0.8787\n",
      "Epoch 81/100\n"
     ]
    },
    {
     "name": "stdout",
     "output_type": "stream",
     "text": [
      "164/164 [==============================] - 0s 1ms/step - loss: 0.2592 - accuracy: 0.8817\n",
      "Epoch 82/100\n",
      "164/164 [==============================] - 0s 1ms/step - loss: 0.2669 - accuracy: 0.8793\n",
      "Epoch 83/100\n",
      "164/164 [==============================] - 0s 1ms/step - loss: 0.2644 - accuracy: 0.8777\n",
      "Epoch 84/100\n",
      "164/164 [==============================] - 0s 1ms/step - loss: 0.2532 - accuracy: 0.8842\n",
      "Epoch 85/100\n",
      "164/164 [==============================] - 0s 1ms/step - loss: 0.2571 - accuracy: 0.8850\n",
      "Epoch 86/100\n",
      "164/164 [==============================] - 0s 1ms/step - loss: 0.2658 - accuracy: 0.8730\n",
      "Epoch 87/100\n",
      "164/164 [==============================] - 0s 1ms/step - loss: 0.2517 - accuracy: 0.8856\n",
      "Epoch 88/100\n",
      "164/164 [==============================] - 0s 1ms/step - loss: 0.2570 - accuracy: 0.8835\n",
      "Epoch 89/100\n",
      "164/164 [==============================] - 0s 1ms/step - loss: 0.2543 - accuracy: 0.8856\n",
      "Epoch 90/100\n",
      "164/164 [==============================] - 0s 1ms/step - loss: 0.2524 - accuracy: 0.8877\n",
      "Epoch 91/100\n",
      "164/164 [==============================] - 0s 1ms/step - loss: 0.2502 - accuracy: 0.8867\n",
      "Epoch 92/100\n",
      "164/164 [==============================] - 0s 1ms/step - loss: 0.2502 - accuracy: 0.8852\n",
      "Epoch 93/100\n",
      "164/164 [==============================] - 0s 1ms/step - loss: 0.2567 - accuracy: 0.8800\n",
      "Epoch 94/100\n",
      "164/164 [==============================] - 0s 1ms/step - loss: 0.2485 - accuracy: 0.8920\n",
      "Epoch 95/100\n",
      "164/164 [==============================] - 0s 1ms/step - loss: 0.2497 - accuracy: 0.8858\n",
      "Epoch 96/100\n",
      "164/164 [==============================] - 0s 1ms/step - loss: 0.2491 - accuracy: 0.8850\n",
      "Epoch 97/100\n",
      "164/164 [==============================] - 0s 1ms/step - loss: 0.2465 - accuracy: 0.8871\n",
      "Epoch 98/100\n",
      "164/164 [==============================] - 0s 1ms/step - loss: 0.2533 - accuracy: 0.8850\n",
      "Epoch 99/100\n",
      "164/164 [==============================] - 0s 1ms/step - loss: 0.2416 - accuracy: 0.8936\n",
      "Epoch 100/100\n",
      "164/164 [==============================] - 0s 1ms/step - loss: 0.2478 - accuracy: 0.8867\n"
     ]
    },
    {
     "data": {
      "text/plain": [
       "<tensorflow.python.keras.callbacks.History at 0x1d6381284c0>"
      ]
     },
     "execution_count": 16,
     "metadata": {},
     "output_type": "execute_result"
    }
   ],
   "source": [
    "model.fit(\n",
    "    X_train_scaled,\n",
    "    y_train_categorical,\n",
    "    epochs=100,\n",
    "    shuffle=True,\n",
    "    verbose=1\n",
    ")"
   ]
  },
  {
   "cell_type": "code",
   "execution_count": 17,
   "metadata": {},
   "outputs": [
    {
     "name": "stdout",
     "output_type": "stream",
     "text": [
      "55/55 - 0s - loss: 0.2659 - accuracy: 0.8924\n",
      "Normal Neural Network - Loss: 0.2658883333206177, Accuracy: 0.8924484848976135\n"
     ]
    }
   ],
   "source": [
    "model_loss, model_accuracy = model.evaluate(\n",
    "    X_test_scaled, y_test_categorical, verbose=2)\n",
    "print(\n",
    "    f\"Normal Neural Network - Loss: {model_loss}, Accuracy: {model_accuracy}\")"
   ]
  },
  {
   "cell_type": "markdown",
   "metadata": {},
   "source": [
    "# Make predictions"
   ]
  },
  {
   "cell_type": "code",
   "execution_count": 18,
   "metadata": {},
   "outputs": [
    {
     "name": "stdout",
     "output_type": "stream",
     "text": [
      "WARNING:tensorflow:From <ipython-input-18-4db8b0f5c0b2>:1: Sequential.predict_classes (from tensorflow.python.keras.engine.sequential) is deprecated and will be removed after 2021-01-01.\n",
      "Instructions for updating:\n",
      "Please use instead:* `np.argmax(model.predict(x), axis=-1)`,   if your model does multi-class classification   (e.g. if it uses a `softmax` last-layer activation).* `(model.predict(x) > 0.5).astype(\"int32\")`,   if your model does binary classification   (e.g. if it uses a `sigmoid` last-layer activation).\n"
     ]
    }
   ],
   "source": [
    "encoded_predictions = model.predict_classes(X_test_scaled[:5])\n",
    "prediction_labels = label_encoder.inverse_transform(encoded_predictions)"
   ]
  },
  {
   "cell_type": "code",
   "execution_count": 19,
   "metadata": {},
   "outputs": [
    {
     "name": "stdout",
     "output_type": "stream",
     "text": [
      "Predicted classes: ['FALSE POSITIVE' 'CANDIDATE' 'FALSE POSITIVE' 'FALSE POSITIVE'\n",
      " 'FALSE POSITIVE']\n",
      "Actual Labels: ['FALSE POSITIVE', 'CANDIDATE', 'FALSE POSITIVE', 'FALSE POSITIVE', 'FALSE POSITIVE']\n"
     ]
    }
   ],
   "source": [
    "\n",
    "print(f\"Predicted classes: {prediction_labels}\")\n",
    "print(f\"Actual Labels: {list(y_test[:5])}\")"
   ]
  },
  {
   "cell_type": "markdown",
   "metadata": {},
   "source": [
    "# Save the Model"
   ]
  },
  {
   "cell_type": "code",
   "execution_count": 25,
   "metadata": {},
   "outputs": [
    {
     "name": "stdout",
     "output_type": "stream",
     "text": [
      "WARNING:tensorflow:From C:\\Users\\Fatma\\anaconda3\\envs\\PythonData38\\lib\\site-packages\\tensorflow\\python\\training\\tracking\\tracking.py:111: Model.state_updates (from tensorflow.python.keras.engine.training) is deprecated and will be removed in a future version.\n",
      "Instructions for updating:\n",
      "This property should not be used in TensorFlow 2.0, as updates are applied automatically.\n",
      "WARNING:tensorflow:From C:\\Users\\Fatma\\anaconda3\\envs\\PythonData38\\lib\\site-packages\\tensorflow\\python\\training\\tracking\\tracking.py:111: Layer.updates (from tensorflow.python.keras.engine.base_layer) is deprecated and will be removed in a future version.\n",
      "Instructions for updating:\n",
      "This property should not be used in TensorFlow 2.0, as updates are applied automatically.\n",
      "INFO:tensorflow:Assets written to: DeepLearning\\assets\n"
     ]
    }
   ],
   "source": [
    "# save model into new folder\n",
    "\n",
    "import joblib\n",
    "filename = 'DeepLearning'\n",
    "\n",
    "model.save(filename)"
   ]
  },
  {
   "cell_type": "code",
   "execution_count": 30,
   "metadata": {},
   "outputs": [],
   "source": [
    "# from tensorflow import keras\n",
    "\n",
    "# a = keras.models.load_model('DeepLearning')\n",
    "\n"
   ]
  },
  {
   "cell_type": "code",
   "execution_count": null,
   "metadata": {},
   "outputs": [],
   "source": []
  },
  {
   "cell_type": "code",
   "execution_count": null,
   "metadata": {},
   "outputs": [],
   "source": []
  }
 ],
 "metadata": {
  "kernel_info": {
   "name": "dev"
  },
  "kernelspec": {
   "display_name": "Python 3",
   "language": "python",
   "name": "python3"
  },
  "language_info": {
   "codemirror_mode": {
    "name": "ipython",
    "version": 3
   },
   "file_extension": ".py",
   "mimetype": "text/x-python",
   "name": "python",
   "nbconvert_exporter": "python",
   "pygments_lexer": "ipython3",
   "version": "3.8.8"
  },
  "nteract": {
   "version": "0.12.3"
  }
 },
 "nbformat": 4,
 "nbformat_minor": 2
}
