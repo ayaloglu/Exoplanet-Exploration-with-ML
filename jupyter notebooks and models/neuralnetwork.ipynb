{
 "cells": [
  {
   "cell_type": "code",
   "execution_count": 1,
   "metadata": {},
   "outputs": [
    {
     "name": "stdout",
     "output_type": "stream",
     "text": [
      "Requirement already satisfied: sklearn in c:\\users\\fatma\\anaconda3\\envs\\pythondata38\\lib\\site-packages (0.0)\n",
      "Requirement already satisfied: scikit-learn in c:\\users\\fatma\\anaconda3\\envs\\pythondata38\\lib\\site-packages (from sklearn) (0.24.1)\n",
      "Requirement already satisfied: scipy>=0.19.1 in c:\\users\\fatma\\anaconda3\\envs\\pythondata38\\lib\\site-packages (from scikit-learn->sklearn) (1.6.2)\n",
      "Requirement already satisfied: numpy>=1.13.3 in c:\\users\\fatma\\anaconda3\\envs\\pythondata38\\lib\\site-packages (from scikit-learn->sklearn) (1.20.1)\n",
      "Requirement already satisfied: joblib>=0.11 in c:\\users\\fatma\\anaconda3\\envs\\pythondata38\\lib\\site-packages (from scikit-learn->sklearn) (1.0.1)\n",
      "Requirement already satisfied: threadpoolctl>=2.0.0 in c:\\users\\fatma\\anaconda3\\envs\\pythondata38\\lib\\site-packages (from scikit-learn->sklearn) (2.1.0)\n"
     ]
    }
   ],
   "source": [
    "# Update sklearn to prevent version mismatches\n",
    "!pip install sklearn --upgrade"
   ]
  },
  {
   "cell_type": "code",
   "execution_count": 2,
   "metadata": {},
   "outputs": [
    {
     "name": "stdout",
     "output_type": "stream",
     "text": [
      "Requirement already satisfied: joblib in c:\\users\\fatma\\anaconda3\\envs\\pythondata38\\lib\\site-packages (1.0.1)\n"
     ]
    }
   ],
   "source": [
    "# install joblib. This will be used to save your model. \n",
    "# Restart your kernel after installing \n",
    "!pip install joblib"
   ]
  },
  {
   "cell_type": "code",
   "execution_count": 3,
   "metadata": {},
   "outputs": [
    {
     "data": {
      "text/plain": [
       "'2.4.0'"
      ]
     },
     "execution_count": 3,
     "metadata": {},
     "output_type": "execute_result"
    }
   ],
   "source": [
    "import pandas as pd\n",
    "import tensorflow\n",
    "tensorflow.keras.__version__"
   ]
  },
  {
   "cell_type": "markdown",
   "metadata": {},
   "source": [
    "# Read the CSV and Perform Basic Data Cleaning"
   ]
  },
  {
   "cell_type": "code",
   "execution_count": 4,
   "metadata": {},
   "outputs": [
    {
     "data": {
      "text/html": [
       "<div>\n",
       "<style scoped>\n",
       "    .dataframe tbody tr th:only-of-type {\n",
       "        vertical-align: middle;\n",
       "    }\n",
       "\n",
       "    .dataframe tbody tr th {\n",
       "        vertical-align: top;\n",
       "    }\n",
       "\n",
       "    .dataframe thead th {\n",
       "        text-align: right;\n",
       "    }\n",
       "</style>\n",
       "<table border=\"1\" class=\"dataframe\">\n",
       "  <thead>\n",
       "    <tr style=\"text-align: right;\">\n",
       "      <th></th>\n",
       "      <th>koi_disposition</th>\n",
       "      <th>koi_fpflag_nt</th>\n",
       "      <th>koi_fpflag_ss</th>\n",
       "      <th>koi_fpflag_co</th>\n",
       "      <th>koi_fpflag_ec</th>\n",
       "      <th>koi_period</th>\n",
       "      <th>koi_period_err1</th>\n",
       "      <th>koi_period_err2</th>\n",
       "      <th>koi_time0bk</th>\n",
       "      <th>koi_time0bk_err1</th>\n",
       "      <th>...</th>\n",
       "      <th>koi_steff_err2</th>\n",
       "      <th>koi_slogg</th>\n",
       "      <th>koi_slogg_err1</th>\n",
       "      <th>koi_slogg_err2</th>\n",
       "      <th>koi_srad</th>\n",
       "      <th>koi_srad_err1</th>\n",
       "      <th>koi_srad_err2</th>\n",
       "      <th>ra</th>\n",
       "      <th>dec</th>\n",
       "      <th>koi_kepmag</th>\n",
       "    </tr>\n",
       "  </thead>\n",
       "  <tbody>\n",
       "    <tr>\n",
       "      <th>0</th>\n",
       "      <td>CONFIRMED</td>\n",
       "      <td>0</td>\n",
       "      <td>0</td>\n",
       "      <td>0</td>\n",
       "      <td>0</td>\n",
       "      <td>54.418383</td>\n",
       "      <td>2.479000e-04</td>\n",
       "      <td>-2.479000e-04</td>\n",
       "      <td>162.513840</td>\n",
       "      <td>0.003520</td>\n",
       "      <td>...</td>\n",
       "      <td>-81</td>\n",
       "      <td>4.467</td>\n",
       "      <td>0.064</td>\n",
       "      <td>-0.096</td>\n",
       "      <td>0.927</td>\n",
       "      <td>0.105</td>\n",
       "      <td>-0.061</td>\n",
       "      <td>291.93423</td>\n",
       "      <td>48.141651</td>\n",
       "      <td>15.347</td>\n",
       "    </tr>\n",
       "    <tr>\n",
       "      <th>1</th>\n",
       "      <td>FALSE POSITIVE</td>\n",
       "      <td>0</td>\n",
       "      <td>1</td>\n",
       "      <td>0</td>\n",
       "      <td>0</td>\n",
       "      <td>19.899140</td>\n",
       "      <td>1.490000e-05</td>\n",
       "      <td>-1.490000e-05</td>\n",
       "      <td>175.850252</td>\n",
       "      <td>0.000581</td>\n",
       "      <td>...</td>\n",
       "      <td>-176</td>\n",
       "      <td>4.544</td>\n",
       "      <td>0.044</td>\n",
       "      <td>-0.176</td>\n",
       "      <td>0.868</td>\n",
       "      <td>0.233</td>\n",
       "      <td>-0.078</td>\n",
       "      <td>297.00482</td>\n",
       "      <td>48.134129</td>\n",
       "      <td>15.436</td>\n",
       "    </tr>\n",
       "    <tr>\n",
       "      <th>2</th>\n",
       "      <td>FALSE POSITIVE</td>\n",
       "      <td>0</td>\n",
       "      <td>1</td>\n",
       "      <td>0</td>\n",
       "      <td>0</td>\n",
       "      <td>1.736952</td>\n",
       "      <td>2.630000e-07</td>\n",
       "      <td>-2.630000e-07</td>\n",
       "      <td>170.307565</td>\n",
       "      <td>0.000115</td>\n",
       "      <td>...</td>\n",
       "      <td>-174</td>\n",
       "      <td>4.564</td>\n",
       "      <td>0.053</td>\n",
       "      <td>-0.168</td>\n",
       "      <td>0.791</td>\n",
       "      <td>0.201</td>\n",
       "      <td>-0.067</td>\n",
       "      <td>285.53461</td>\n",
       "      <td>48.285210</td>\n",
       "      <td>15.597</td>\n",
       "    </tr>\n",
       "    <tr>\n",
       "      <th>3</th>\n",
       "      <td>CONFIRMED</td>\n",
       "      <td>0</td>\n",
       "      <td>0</td>\n",
       "      <td>0</td>\n",
       "      <td>0</td>\n",
       "      <td>2.525592</td>\n",
       "      <td>3.760000e-06</td>\n",
       "      <td>-3.760000e-06</td>\n",
       "      <td>171.595550</td>\n",
       "      <td>0.001130</td>\n",
       "      <td>...</td>\n",
       "      <td>-211</td>\n",
       "      <td>4.438</td>\n",
       "      <td>0.070</td>\n",
       "      <td>-0.210</td>\n",
       "      <td>1.046</td>\n",
       "      <td>0.334</td>\n",
       "      <td>-0.133</td>\n",
       "      <td>288.75488</td>\n",
       "      <td>48.226200</td>\n",
       "      <td>15.509</td>\n",
       "    </tr>\n",
       "    <tr>\n",
       "      <th>4</th>\n",
       "      <td>CONFIRMED</td>\n",
       "      <td>0</td>\n",
       "      <td>0</td>\n",
       "      <td>0</td>\n",
       "      <td>0</td>\n",
       "      <td>4.134435</td>\n",
       "      <td>1.050000e-05</td>\n",
       "      <td>-1.050000e-05</td>\n",
       "      <td>172.979370</td>\n",
       "      <td>0.001900</td>\n",
       "      <td>...</td>\n",
       "      <td>-232</td>\n",
       "      <td>4.486</td>\n",
       "      <td>0.054</td>\n",
       "      <td>-0.229</td>\n",
       "      <td>0.972</td>\n",
       "      <td>0.315</td>\n",
       "      <td>-0.105</td>\n",
       "      <td>296.28613</td>\n",
       "      <td>48.224670</td>\n",
       "      <td>15.714</td>\n",
       "    </tr>\n",
       "  </tbody>\n",
       "</table>\n",
       "<p>5 rows × 41 columns</p>\n",
       "</div>"
      ],
      "text/plain": [
       "  koi_disposition  koi_fpflag_nt  koi_fpflag_ss  koi_fpflag_co  koi_fpflag_ec  \\\n",
       "0       CONFIRMED              0              0              0              0   \n",
       "1  FALSE POSITIVE              0              1              0              0   \n",
       "2  FALSE POSITIVE              0              1              0              0   \n",
       "3       CONFIRMED              0              0              0              0   \n",
       "4       CONFIRMED              0              0              0              0   \n",
       "\n",
       "   koi_period  koi_period_err1  koi_period_err2  koi_time0bk  \\\n",
       "0   54.418383     2.479000e-04    -2.479000e-04   162.513840   \n",
       "1   19.899140     1.490000e-05    -1.490000e-05   175.850252   \n",
       "2    1.736952     2.630000e-07    -2.630000e-07   170.307565   \n",
       "3    2.525592     3.760000e-06    -3.760000e-06   171.595550   \n",
       "4    4.134435     1.050000e-05    -1.050000e-05   172.979370   \n",
       "\n",
       "   koi_time0bk_err1  ...  koi_steff_err2  koi_slogg  koi_slogg_err1  \\\n",
       "0          0.003520  ...             -81      4.467           0.064   \n",
       "1          0.000581  ...            -176      4.544           0.044   \n",
       "2          0.000115  ...            -174      4.564           0.053   \n",
       "3          0.001130  ...            -211      4.438           0.070   \n",
       "4          0.001900  ...            -232      4.486           0.054   \n",
       "\n",
       "   koi_slogg_err2  koi_srad  koi_srad_err1  koi_srad_err2         ra  \\\n",
       "0          -0.096     0.927          0.105         -0.061  291.93423   \n",
       "1          -0.176     0.868          0.233         -0.078  297.00482   \n",
       "2          -0.168     0.791          0.201         -0.067  285.53461   \n",
       "3          -0.210     1.046          0.334         -0.133  288.75488   \n",
       "4          -0.229     0.972          0.315         -0.105  296.28613   \n",
       "\n",
       "         dec  koi_kepmag  \n",
       "0  48.141651      15.347  \n",
       "1  48.134129      15.436  \n",
       "2  48.285210      15.597  \n",
       "3  48.226200      15.509  \n",
       "4  48.224670      15.714  \n",
       "\n",
       "[5 rows x 41 columns]"
      ]
     },
     "execution_count": 4,
     "metadata": {},
     "output_type": "execute_result"
    }
   ],
   "source": [
    "df = pd.read_csv(\"exoplanet_data.csv\")\n",
    "# Drop the null columns where all values are null\n",
    "df = df.dropna(axis='columns', how='all')\n",
    "# Drop the null rows\n",
    "df = df.dropna()\n",
    "df.head()"
   ]
  },
  {
   "cell_type": "code",
   "execution_count": null,
   "metadata": {},
   "outputs": [],
   "source": [
    "df.columns"
   ]
  },
  {
   "cell_type": "markdown",
   "metadata": {},
   "source": [
    "# Select your features (columns)"
   ]
  },
  {
   "cell_type": "code",
   "execution_count": 5,
   "metadata": {},
   "outputs": [],
   "source": [
    "# Set features. This will also be used as your x values.\n",
    "# check the definition of each column name from:  https://exoplanetarchive.ipac.caltech.edu/docs/API_kepcandidate_columns.html#pdisposition\n",
    "selected_features = df[['koi_fpflag_nt', 'koi_fpflag_ss', 'koi_fpflag_co',\n",
    "       'koi_fpflag_ec', 'koi_period', \n",
    "        'koi_impact',\n",
    "        'koi_duration',\n",
    "        'koi_depth', \n",
    "        'koi_prad', \n",
    "       'koi_teq', 'koi_insol', \n",
    "       'koi_model_snr',  'koi_steff', \n",
    "        'koi_slogg', \n",
    "       'koi_srad',  \n",
    "       'koi_kepmag']]"
   ]
  },
  {
   "cell_type": "markdown",
   "metadata": {},
   "source": [
    "# Create a Train Test Split\n",
    "\n",
    "Use `koi_disposition` for the y values"
   ]
  },
  {
   "cell_type": "code",
   "execution_count": 6,
   "metadata": {},
   "outputs": [],
   "source": [
    "target = df[\"koi_disposition\" ]\n"
   ]
  },
  {
   "cell_type": "code",
   "execution_count": 7,
   "metadata": {},
   "outputs": [],
   "source": [
    "from sklearn.model_selection import train_test_split\n",
    "X_train, X_test, y_train, y_test = train_test_split(selected_features, target, random_state=42)"
   ]
  },
  {
   "cell_type": "code",
   "execution_count": null,
   "metadata": {},
   "outputs": [],
   "source": [
    "X_train.head()"
   ]
  },
  {
   "cell_type": "markdown",
   "metadata": {},
   "source": [
    "# Pre-processing\n",
    "\n",
    "Scale the data using the MinMaxScaler and perform some feature selection"
   ]
  },
  {
   "cell_type": "code",
   "execution_count": 8,
   "metadata": {},
   "outputs": [],
   "source": [
    "\n",
    "\n",
    "\n",
    "from sklearn.preprocessing import LabelEncoder, MinMaxScaler\n",
    "from tensorflow.keras.utils import to_categorical\n"
   ]
  },
  {
   "cell_type": "code",
   "execution_count": 9,
   "metadata": {},
   "outputs": [],
   "source": [
    "X_scaler = MinMaxScaler().fit(X_train)\n",
    "X_train_scaled = X_scaler.transform(X_train)\n",
    "X_test_scaled = X_scaler.transform(X_test)"
   ]
  },
  {
   "cell_type": "code",
   "execution_count": 10,
   "metadata": {},
   "outputs": [],
   "source": [
    "# Label-encode data set\n",
    "label_encoder = LabelEncoder()\n",
    "label_encoder.fit(y_train)\n",
    "encoded_y_train = label_encoder.transform(y_train)\n",
    "encoded_y_test = label_encoder.transform(y_test)"
   ]
  },
  {
   "cell_type": "code",
   "execution_count": 11,
   "metadata": {},
   "outputs": [],
   "source": [
    "# Convert encoded labels to one-hot-encoding\n",
    "y_train_categorical = to_categorical(encoded_y_train)\n",
    "y_test_categorical = to_categorical(encoded_y_test)"
   ]
  },
  {
   "cell_type": "markdown",
   "metadata": {},
   "source": [
    "# Train The Model"
   ]
  },
  {
   "cell_type": "code",
   "execution_count": 12,
   "metadata": {},
   "outputs": [],
   "source": [
    "from tensorflow.keras.models import Sequential\n",
    "from tensorflow.keras.layers import Dense"
   ]
  },
  {
   "cell_type": "code",
   "execution_count": 13,
   "metadata": {},
   "outputs": [],
   "source": [
    "# Create model and add layers\n",
    "model = Sequential()\n",
    "model.add(Dense(units=100, activation='relu', input_dim=16))\n",
    "\n",
    "model.add(Dense(units=3, activation='softmax'))"
   ]
  },
  {
   "cell_type": "code",
   "execution_count": 14,
   "metadata": {},
   "outputs": [],
   "source": [
    "# Compile and fit the model\n",
    "model.compile(optimizer='adam',\n",
    "              loss='categorical_crossentropy',\n",
    "              metrics=['accuracy'])"
   ]
  },
  {
   "cell_type": "code",
   "execution_count": 15,
   "metadata": {},
   "outputs": [
    {
     "name": "stdout",
     "output_type": "stream",
     "text": [
      "Model: \"sequential\"\n",
      "_________________________________________________________________\n",
      "Layer (type)                 Output Shape              Param #   \n",
      "=================================================================\n",
      "dense (Dense)                (None, 100)               1700      \n",
      "_________________________________________________________________\n",
      "dense_1 (Dense)              (None, 3)                 303       \n",
      "=================================================================\n",
      "Total params: 2,003\n",
      "Trainable params: 2,003\n",
      "Non-trainable params: 0\n",
      "_________________________________________________________________\n"
     ]
    }
   ],
   "source": [
    "model.summary()"
   ]
  },
  {
   "cell_type": "code",
   "execution_count": 16,
   "metadata": {},
   "outputs": [
    {
     "name": "stdout",
     "output_type": "stream",
     "text": [
      "Epoch 1/60\n",
      "164/164 [==============================] - 0s 1ms/step - loss: 0.7036 - accuracy: 0.6456\n",
      "Epoch 2/60\n",
      "164/164 [==============================] - 0s 999us/step - loss: 0.4214 - accuracy: 0.7747\n",
      "Epoch 3/60\n",
      "164/164 [==============================] - 0s 993us/step - loss: 0.3878 - accuracy: 0.7860\n",
      "Epoch 4/60\n",
      "164/164 [==============================] - 0s 1ms/step - loss: 0.3778 - accuracy: 0.7894\n",
      "Epoch 5/60\n",
      "164/164 [==============================] - 0s 1ms/step - loss: 0.3739 - accuracy: 0.7904\n",
      "Epoch 6/60\n",
      "164/164 [==============================] - 0s 1ms/step - loss: 0.3697 - accuracy: 0.7950\n",
      "Epoch 7/60\n",
      "164/164 [==============================] - 0s 1ms/step - loss: 0.3673 - accuracy: 0.7978\n",
      "Epoch 8/60\n",
      "164/164 [==============================] - 0s 1ms/step - loss: 0.3646 - accuracy: 0.7942\n",
      "Epoch 9/60\n",
      "164/164 [==============================] - 0s 1ms/step - loss: 0.3631 - accuracy: 0.7978\n",
      "Epoch 10/60\n",
      "164/164 [==============================] - 0s 987us/step - loss: 0.3625 - accuracy: 0.7988\n",
      "Epoch 11/60\n",
      "164/164 [==============================] - 0s 1ms/step - loss: 0.3602 - accuracy: 0.8037\n",
      "Epoch 12/60\n",
      "164/164 [==============================] - 0s 981us/step - loss: 0.3601 - accuracy: 0.7995\n",
      "Epoch 13/60\n",
      "164/164 [==============================] - 0s 957us/step - loss: 0.3584 - accuracy: 0.8051\n",
      "Epoch 14/60\n",
      "164/164 [==============================] - 0s 926us/step - loss: 0.3568 - accuracy: 0.8043\n",
      "Epoch 15/60\n",
      "164/164 [==============================] - 0s 951us/step - loss: 0.3587 - accuracy: 0.7978\n",
      "Epoch 16/60\n",
      "164/164 [==============================] - 0s 1ms/step - loss: 0.3553 - accuracy: 0.8060\n",
      "Epoch 17/60\n",
      "164/164 [==============================] - 0s 1ms/step - loss: 0.3552 - accuracy: 0.8064\n",
      "Epoch 18/60\n",
      "164/164 [==============================] - 0s 1ms/step - loss: 0.3557 - accuracy: 0.8095\n",
      "Epoch 19/60\n",
      "164/164 [==============================] - 0s 1ms/step - loss: 0.3550 - accuracy: 0.8028\n",
      "Epoch 20/60\n",
      "164/164 [==============================] - 0s 1ms/step - loss: 0.3535 - accuracy: 0.8102\n",
      "Epoch 21/60\n",
      "164/164 [==============================] - 0s 987us/step - loss: 0.3535 - accuracy: 0.8056\n",
      "Epoch 22/60\n",
      "164/164 [==============================] - 0s 1ms/step - loss: 0.3538 - accuracy: 0.8098\n",
      "Epoch 23/60\n",
      "164/164 [==============================] - 0s 1ms/step - loss: 0.3528 - accuracy: 0.8085\n",
      "Epoch 24/60\n",
      "164/164 [==============================] - 0s 1ms/step - loss: 0.3515 - accuracy: 0.8097\n",
      "Epoch 25/60\n",
      "164/164 [==============================] - 0s 969us/step - loss: 0.3523 - accuracy: 0.8116\n",
      "Epoch 26/60\n",
      "164/164 [==============================] - 0s 951us/step - loss: 0.3504 - accuracy: 0.8129\n",
      "Epoch 27/60\n",
      "164/164 [==============================] - 0s 951us/step - loss: 0.3509 - accuracy: 0.8100\n",
      "Epoch 28/60\n",
      "164/164 [==============================] - 0s 951us/step - loss: 0.3504 - accuracy: 0.8117\n",
      "Epoch 29/60\n",
      "164/164 [==============================] - 0s 981us/step - loss: 0.3511 - accuracy: 0.8049\n",
      "Epoch 30/60\n",
      "164/164 [==============================] - 0s 1ms/step - loss: 0.3495 - accuracy: 0.8129\n",
      "Epoch 31/60\n",
      "164/164 [==============================] - 0s 993us/step - loss: 0.3494 - accuracy: 0.8125\n",
      "Epoch 32/60\n",
      "164/164 [==============================] - 0s 975us/step - loss: 0.3483 - accuracy: 0.8137\n",
      "Epoch 33/60\n",
      "164/164 [==============================] - 0s 987us/step - loss: 0.3506 - accuracy: 0.8037\n",
      "Epoch 34/60\n",
      "164/164 [==============================] - 0s 975us/step - loss: 0.3473 - accuracy: 0.8138\n",
      "Epoch 35/60\n",
      "164/164 [==============================] - 0s 975us/step - loss: 0.3477 - accuracy: 0.8133\n",
      "Epoch 36/60\n",
      "164/164 [==============================] - 0s 1ms/step - loss: 0.3473 - accuracy: 0.8146\n",
      "Epoch 37/60\n",
      "164/164 [==============================] - 0s 987us/step - loss: 0.3465 - accuracy: 0.8154\n",
      "Epoch 38/60\n",
      "164/164 [==============================] - 0s 1ms/step - loss: 0.3467 - accuracy: 0.8116\n",
      "Epoch 39/60\n",
      "164/164 [==============================] - 0s 1ms/step - loss: 0.3455 - accuracy: 0.8161\n",
      "Epoch 40/60\n",
      "164/164 [==============================] - 0s 1ms/step - loss: 0.3452 - accuracy: 0.8171\n",
      "Epoch 41/60\n",
      "164/164 [==============================] - 0s 1ms/step - loss: 0.3457 - accuracy: 0.8140\n",
      "Epoch 42/60\n",
      "164/164 [==============================] - 0s 1ms/step - loss: 0.3448 - accuracy: 0.8156\n",
      "Epoch 43/60\n",
      "164/164 [==============================] - 0s 1ms/step - loss: 0.3438 - accuracy: 0.8198\n",
      "Epoch 44/60\n",
      "164/164 [==============================] - 0s 1ms/step - loss: 0.3425 - accuracy: 0.8173\n",
      "Epoch 45/60\n",
      "164/164 [==============================] - 0s 993us/step - loss: 0.3431 - accuracy: 0.8163\n",
      "Epoch 46/60\n",
      "164/164 [==============================] - 0s 975us/step - loss: 0.3423 - accuracy: 0.8182\n",
      "Epoch 47/60\n",
      "164/164 [==============================] - 0s 975us/step - loss: 0.3432 - accuracy: 0.8192\n",
      "Epoch 48/60\n",
      "164/164 [==============================] - 0s 975us/step - loss: 0.3404 - accuracy: 0.8209\n",
      "Epoch 49/60\n",
      "164/164 [==============================] - 0s 975us/step - loss: 0.3419 - accuracy: 0.8205\n",
      "Epoch 50/60\n",
      "164/164 [==============================] - 0s 957us/step - loss: 0.3401 - accuracy: 0.8198\n",
      "Epoch 51/60\n",
      "164/164 [==============================] - 0s 969us/step - loss: 0.3398 - accuracy: 0.8222\n",
      "Epoch 52/60\n",
      "164/164 [==============================] - 0s 969us/step - loss: 0.3390 - accuracy: 0.8201\n",
      "Epoch 53/60\n",
      "164/164 [==============================] - 0s 1ms/step - loss: 0.3383 - accuracy: 0.8241\n",
      "Epoch 54/60\n",
      "164/164 [==============================] - 0s 1ms/step - loss: 0.3374 - accuracy: 0.8278\n",
      "Epoch 55/60\n",
      "164/164 [==============================] - 0s 1ms/step - loss: 0.3392 - accuracy: 0.8201\n",
      "Epoch 56/60\n",
      "164/164 [==============================] - 0s 1ms/step - loss: 0.3367 - accuracy: 0.8285\n",
      "Epoch 57/60\n",
      "164/164 [==============================] - 0s 1ms/step - loss: 0.3366 - accuracy: 0.8259\n",
      "Epoch 58/60\n",
      "164/164 [==============================] - 0s 1ms/step - loss: 0.3345 - accuracy: 0.8236\n",
      "Epoch 59/60\n",
      "164/164 [==============================] - 0s 938us/step - loss: 0.3352 - accuracy: 0.8232\n",
      "Epoch 60/60\n",
      "164/164 [==============================] - 0s 1ms/step - loss: 0.3340 - accuracy: 0.8283\n"
     ]
    },
    {
     "data": {
      "text/plain": [
       "<tensorflow.python.keras.callbacks.History at 0x1ce52fc2940>"
      ]
     },
     "execution_count": 16,
     "metadata": {},
     "output_type": "execute_result"
    }
   ],
   "source": [
    "model.fit(\n",
    "    X_train_scaled,\n",
    "    y_train_categorical,\n",
    "    epochs=60,\n",
    "    shuffle=True,\n",
    "    verbose=1\n",
    ")"
   ]
  },
  {
   "cell_type": "code",
   "execution_count": 17,
   "metadata": {},
   "outputs": [
    {
     "name": "stdout",
     "output_type": "stream",
     "text": [
      "55/55 - 0s - loss: 0.3498 - accuracy: 0.8295\n",
      "Normal Neural Network - Loss: 0.3498413860797882, Accuracy: 0.8295194506645203\n"
     ]
    }
   ],
   "source": [
    "model_loss, model_accuracy = model.evaluate(\n",
    "    X_test_scaled, y_test_categorical, verbose=2)\n",
    "print(\n",
    "    f\"Normal Neural Network - Loss: {model_loss}, Accuracy: {model_accuracy}\")"
   ]
  },
  {
   "cell_type": "markdown",
   "metadata": {},
   "source": [
    "# Make predictions"
   ]
  },
  {
   "cell_type": "code",
   "execution_count": 18,
   "metadata": {},
   "outputs": [
    {
     "name": "stdout",
     "output_type": "stream",
     "text": [
      "WARNING:tensorflow:From <ipython-input-18-4db8b0f5c0b2>:1: Sequential.predict_classes (from tensorflow.python.keras.engine.sequential) is deprecated and will be removed after 2021-01-01.\n",
      "Instructions for updating:\n",
      "Please use instead:* `np.argmax(model.predict(x), axis=-1)`,   if your model does multi-class classification   (e.g. if it uses a `softmax` last-layer activation).* `(model.predict(x) > 0.5).astype(\"int32\")`,   if your model does binary classification   (e.g. if it uses a `sigmoid` last-layer activation).\n"
     ]
    }
   ],
   "source": [
    "encoded_predictions = model.predict_classes(X_test_scaled[:5])\n",
    "prediction_labels = label_encoder.inverse_transform(encoded_predictions)"
   ]
  },
  {
   "cell_type": "code",
   "execution_count": 19,
   "metadata": {},
   "outputs": [
    {
     "name": "stdout",
     "output_type": "stream",
     "text": [
      "Predicted classes: ['FALSE POSITIVE' 'CANDIDATE' 'FALSE POSITIVE' 'FALSE POSITIVE'\n",
      " 'FALSE POSITIVE']\n",
      "Actual Labels: ['FALSE POSITIVE', 'CANDIDATE', 'FALSE POSITIVE', 'FALSE POSITIVE', 'FALSE POSITIVE']\n"
     ]
    }
   ],
   "source": [
    "\n",
    "print(f\"Predicted classes: {prediction_labels}\")\n",
    "print(f\"Actual Labels: {list(y_test[:5])}\")"
   ]
  },
  {
   "cell_type": "markdown",
   "metadata": {},
   "source": [
    "# Save the Model"
   ]
  },
  {
   "cell_type": "code",
   "execution_count": 26,
   "metadata": {},
   "outputs": [
    {
     "name": "stdout",
     "output_type": "stream",
     "text": [
      "INFO:tensorflow:Assets written to: NeuralNetworkModel\\assets\n"
     ]
    }
   ],
   "source": [
    "# save your model by updating \"your_name\" with your name\n",
    "# and \"your_model\" with your model variable\n",
    "# be sure to turn this in to BCS\n",
    "# if joblib fails to import, try running the command to install in terminal/git-bash\n",
    "import joblib\n",
    "filename = 'NeuralNetworkModel'\n",
    "# joblib.dump(model, filename)\n",
    "\n",
    "model.save(filename)"
   ]
  },
  {
   "cell_type": "code",
   "execution_count": null,
   "metadata": {},
   "outputs": [],
   "source": []
  }
 ],
 "metadata": {
  "kernel_info": {
   "name": "dev"
  },
  "kernelspec": {
   "display_name": "Python 3",
   "language": "python",
   "name": "python3"
  },
  "language_info": {
   "codemirror_mode": {
    "name": "ipython",
    "version": 3
   },
   "file_extension": ".py",
   "mimetype": "text/x-python",
   "name": "python",
   "nbconvert_exporter": "python",
   "pygments_lexer": "ipython3",
   "version": "3.8.8"
  },
  "nteract": {
   "version": "0.12.3"
  }
 },
 "nbformat": 4,
 "nbformat_minor": 2
}
